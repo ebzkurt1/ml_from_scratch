{
  "nbformat": 4,
  "nbformat_minor": 0,
  "metadata": {
    "colab": {
      "name": "ML Models with Sklearn.ipynb",
      "provenance": [],
      "toc_visible": true,
      "authorship_tag": "ABX9TyPDNjxB1zyKIkQp/pzk7LDG",
      "include_colab_link": true
    },
    "kernelspec": {
      "name": "python3",
      "display_name": "Python 3"
    },
    "language_info": {
      "name": "python"
    }
  },
  "cells": [
    {
      "cell_type": "markdown",
      "metadata": {
        "id": "view-in-github",
        "colab_type": "text"
      },
      "source": [
        "<a href=\"https://colab.research.google.com/github/ebzkurt1/ml_from_scratch/blob/main/ML_Models_with_Sklearn.ipynb\" target=\"_parent\"><img src=\"https://colab.research.google.com/assets/colab-badge.svg\" alt=\"Open In Colab\"/></a>"
      ]
    },
    {
      "cell_type": "code",
      "execution_count": 17,
      "metadata": {
        "id": "snA8sn240fLY"
      },
      "outputs": [],
      "source": [
        "from sklearn import datasets\n",
        "from sklearn.model_selection import train_test_split\n",
        "from sklearn.preprocessing import StandardScaler\n",
        "from sklearn.linear_model import Perceptron\n",
        "import numpy as np"
      ]
    },
    {
      "cell_type": "markdown",
      "source": [
        "## Data Handling"
      ],
      "metadata": {
        "id": "a9E4vSIc2Blb"
      }
    },
    {
      "cell_type": "markdown",
      "source": [
        "### Loading the data"
      ],
      "metadata": {
        "id": "jHUR_8iy3_ZD"
      }
    },
    {
      "cell_type": "code",
      "source": [
        "iris_X, iris_y = datasets.load_iris(\n",
        "    return_X_y=True # When set true the function returns (X,y)\n",
        ")\n",
        "print(\"Iris data size : \", iris_X.shape)\n",
        "print(\"Iris data unique labels : \", np.unique(iris_y))"
      ],
      "metadata": {
        "colab": {
          "base_uri": "https://localhost:8080/"
        },
        "id": "99CvoDop0oME",
        "outputId": "98aefe43-7518-4707-af56-f0480912096c"
      },
      "execution_count": 10,
      "outputs": [
        {
          "output_type": "stream",
          "name": "stdout",
          "text": [
            "Iris data size :  (150, 4)\n",
            "Iris data unique labels :  [0 1 2]\n"
          ]
        }
      ]
    },
    {
      "cell_type": "markdown",
      "source": [
        "### Splitting the data into train and test"
      ],
      "metadata": {
        "id": "po4_zm8P4FTD"
      }
    },
    {
      "cell_type": "code",
      "source": [
        "X_train, X_test, y_train, y_test = train_test_split(\n",
        "    iris_X,\n",
        "    iris_y,\n",
        "    test_size=0.3, # Test data size\n",
        "    random_state=1, # Specifying the random state\n",
        "    stratify=iris_y # To acquire same label size in each split\n",
        ")\n",
        "\n",
        "print(\"Train data size : \", X_train.shape)\n",
        "print(\"Train data label number for each label : \", np.bincount(y_train))\n",
        "\n",
        "print(\"Test data size : \", X_test.shape)\n",
        "print(\"Test data label number for each label : \", np.bincount(y_test))"
      ],
      "metadata": {
        "colab": {
          "base_uri": "https://localhost:8080/"
        },
        "id": "I-K4eKrb3-2T",
        "outputId": "06802562-265b-47b1-c333-8a144961eea1"
      },
      "execution_count": 11,
      "outputs": [
        {
          "output_type": "stream",
          "name": "stdout",
          "text": [
            "Train data size :  (105, 4)\n",
            "Train data label number for each label :  [35 35 35]\n",
            "Test data size :  (45, 4)\n",
            "Test data label number for each label :  [15 15 15]\n"
          ]
        }
      ]
    },
    {
      "cell_type": "markdown",
      "source": [
        "### Scaling the data"
      ],
      "metadata": {
        "id": "IgUkM4KL4MrF"
      }
    },
    {
      "cell_type": "code",
      "source": [
        "standard_scaler = StandardScaler()\n",
        "standard_scaler.fit(X_train)\n",
        "\n",
        "print(\"Mean of the train data BEFORE scaling : \", X_train.mean())\n",
        "\n",
        "X_train_scaled = standard_scaler.transform(X_train)\n",
        "X_test_scaled = standard_scaler.transform(X_test)\n",
        "\n",
        "print(\"Mean of the train data AFTER scaling : \", X_train_scaled.mean())"
      ],
      "metadata": {
        "colab": {
          "base_uri": "https://localhost:8080/"
        },
        "id": "SJjwtK4-4LM0",
        "outputId": "77087932-f291-4d02-9539-d55d29906524"
      },
      "execution_count": 16,
      "outputs": [
        {
          "output_type": "stream",
          "name": "stdout",
          "text": [
            "Mean of the train data BEFORE scaling :  3.4783333333333335\n",
            "Mean of the train data AFTER scaling :  4.1871268357291617e-16\n"
          ]
        }
      ]
    },
    {
      "cell_type": "markdown",
      "source": [
        "## Model Generation"
      ],
      "metadata": {
        "id": "kfwa2UEj5btk"
      }
    },
    {
      "cell_type": "markdown",
      "source": [
        "### Perceptron model"
      ],
      "metadata": {
        "id": "laR2ixt75ehD"
      }
    },
    {
      "cell_type": "code",
      "source": [
        "perceptron_model = Perceptron(\n",
        "    eta0=0.1, # Learning rate of the model\n",
        "    random_state=1\n",
        ")\n",
        "perceptron_model.fit(\n",
        "    X_train_scaled,\n",
        "    y_train\n",
        ")\n",
        "perceptron_prediction = perceptron_model.predict(X_test_scaled)\n",
        "perceptron_accuracy = (perceptron_prediction==y_test).sum()/y_test.shape[0]\n",
        "print(\"Perceptron model accuracy is : \", perceptron_accuracy)"
      ],
      "metadata": {
        "colab": {
          "base_uri": "https://localhost:8080/"
        },
        "id": "mGjrf23Y5eHs",
        "outputId": "ea70972d-fdc0-4053-d5e5-a065189c14be"
      },
      "execution_count": 18,
      "outputs": [
        {
          "output_type": "stream",
          "name": "stdout",
          "text": [
            "Perceptron model accuracy is :  0.9555555555555556\n"
          ]
        }
      ]
    }
  ]
}