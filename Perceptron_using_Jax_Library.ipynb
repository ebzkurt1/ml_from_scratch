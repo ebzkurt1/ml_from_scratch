{
  "nbformat": 4,
  "nbformat_minor": 0,
  "metadata": {
    "colab": {
      "name": "Perceptron using Jax Library.ipynb",
      "provenance": [],
      "authorship_tag": "ABX9TyM6fWepyneK7aHMRKzWbXEi",
      "include_colab_link": true
    },
    "kernelspec": {
      "name": "python3",
      "display_name": "Python 3"
    },
    "language_info": {
      "name": "python"
    },
    "accelerator": "GPU"
  },
  "cells": [
    {
      "cell_type": "markdown",
      "metadata": {
        "id": "view-in-github",
        "colab_type": "text"
      },
      "source": [
        "<a href=\"https://colab.research.google.com/github/ebzkurt1/ml_with_jax/blob/main/Perceptron_using_Jax_Library.ipynb\" target=\"_parent\"><img src=\"https://colab.research.google.com/assets/colab-badge.svg\" alt=\"Open In Colab\"/></a>"
      ]
    },
    {
      "cell_type": "code",
      "execution_count": 1,
      "metadata": {
        "id": "_76hMwb1wICX"
      },
      "outputs": [],
      "source": [
        "import numpy as np\n",
        "import jax\n",
        "from jax import random\n",
        "import jax.numpy as jnp\n",
        "from jax import grad, jit, vmap"
      ]
    },
    {
      "cell_type": "code",
      "source": [
        "key = random.PRNGKey(0)\n",
        "x = random.normal(key, (10,))\n",
        "print(x)"
      ],
      "metadata": {
        "colab": {
          "base_uri": "https://localhost:8080/"
        },
        "id": "RuC-G-qZ0mmV",
        "outputId": "85991ca9-a3ae-4224-be71-595348d8ace1"
      },
      "execution_count": 2,
      "outputs": [
        {
          "output_type": "stream",
          "name": "stdout",
          "text": [
            "[-0.3721109   0.26423115 -0.18252768 -0.7368197  -0.44030377 -0.1521442\n",
            " -0.67135346 -0.5908641   0.73168886  0.5673026 ]\n"
          ]
        }
      ]
    },
    {
      "cell_type": "code",
      "source": [
        "def forward(X,w,b):\n",
        "    return jnp.matmul(X,w)+b\n",
        "\n",
        "def sig(fwd):\n",
        "    return 1/(1+jnp.exp(-fwd))\n",
        "\n",
        "def loss_fnc(yhat,y):\n",
        "    return jnp.mean((yhat-y)**2)\n"
      ],
      "metadata": {
        "id": "9SiU-wTQ7b9P"
      },
      "execution_count": 15,
      "outputs": []
    },
    {
      "cell_type": "code",
      "source": [
        "X = jnp.array([[3.0,1.2,3.6],[1.4,6.21,6.8],[1.4,67.3,8.9],[1.4,2.6,1.6]])\n",
        "y = jnp.array([[1.2],[5.1],[7.3]])\n",
        "class_num = 3\n",
        "W = random.normal(key=random.PRNGKey(42),shape=(X.shape[-1],class_num))\n",
        "b = random.normal(key=random.PRNGKey(42),shape=(class_num,1))\n",
        "print(b)\n",
        "print(jnp.matmul(X,W))\n",
        "ff = (jnp.matmul(X,W).T + b).T\n",
        "pred = jnp.exp(ff)/jnp.exp(ff).sum(axis=0)\n",
        "pred_arg = jnp.argmax(pred,axis=1).reshape(-1,1)\n",
        "print(pred_arg)"
      ],
      "metadata": {
        "colab": {
          "base_uri": "https://localhost:8080/"
        },
        "id": "gcmnIU4h2Rwc",
        "outputId": "5551e29f-34e8-4146-c8b5-61d508301e3c"
      },
      "execution_count": 43,
      "outputs": [
        {
          "output_type": "stream",
          "name": "stdout",
          "text": [
            "[[ 0.18693547]\n",
            " [-1.2806505 ]\n",
            " [-1.5593132 ]]\n",
            "[[  1.1221201  -3.0668693  -2.4274304]\n",
            " [  5.3090363  -1.4732898  -4.3279586]\n",
            " [ 78.27431    33.596214  -56.818012 ]\n",
            " [  3.020036   -0.159982   -2.936196 ]]\n",
            "[[2]\n",
            " [2]\n",
            " [0]\n",
            " [2]]\n"
          ]
        }
      ]
    },
    {
      "cell_type": "code",
      "source": [
        "def custom_sigmoid(matrix):\n",
        "    return (1/(1+jnp.exp(-matrix)))\n",
        "\n",
        "def custom_softmax(matrix):\n",
        "    return jnp.exp(matrix)/jnp.exp(matrix).sum(axis=0)\n",
        "\n",
        "def forward_pass(X, W, b, activation_func):\n",
        "    return activation_func((jnp.matmul(X, W).T + b).T)\n",
        "\n",
        "def categorical_cross_entrop(yhat)\n",
        "\n",
        "def loss_fnc(X, W, b, activation, loss_func):\n",
        "    yhat = forward_pass(X,W,b,activation)\n"
      ],
      "metadata": {
        "id": "qgWs6IWxIJMh"
      },
      "execution_count": null,
      "outputs": []
    },
    {
      "cell_type": "code",
      "source": [
        "class Perceptron:\n",
        "    def __init__(self, activation_func='sigmoid', loss_func='mean_squared_error', learning_rate=0.01, iter=50, random_key=1):\n",
        "        self.activation_func = activation_func\n",
        "        self.loss_func = loss_func\n",
        "        self.learning_rate = learning_rate\n",
        "        self.iter = iter\n",
        "        self.random_key = random.PRNGKey(random_key)\n",
        "\n",
        "    def forward(self, X):\n",
        "        return jnp.matmul(X, self.w) + self.b\n",
        "\n",
        "    def sigmoid_func(matrix):\n",
        "        return (1/(1+jnp.exp(-matrix)))\n",
        "\n",
        "    def jax_sigmoid(matrix):\n",
        "        return jax.nn.sigmoid(matrix)\n",
        "    \n",
        "    def mean_squared_error(yhat, y):\n",
        "        return jnp.mean((yhat-y)**2)\n",
        "    \n",
        "    def param_update(self, gradient):\n",
        "        self.w -= self.learning_rate * gradient\n",
        "        self.b -= \n",
        "\n",
        "    def fit(self, X, Y):\n",
        "        self.w = random.normal(\n",
        "            key=self.random_key,\n",
        "            shape=(X.shape[-1],1)\n",
        "        )\n",
        "        self.b = random.normal(\n",
        "            key=self.random_key\n",
        "        )\n",
        "\n",
        "        for _ in range(self.iter):\n",
        "            error = 0\n",
        "            forward_pass = forward(self, X)\n",
        "            if self.activation_func == 'sigmoid':\n",
        "                activation = sigmoid_func(forward_pass)\n",
        "            else:\n",
        "                activation = forward_pass\n",
        "            if self.loss_func == 'mean_squared_error':\n",
        "                gradient_func = grad(mean_squared_error)\n",
        "                gradient = gradient_func(activation)\n",
        "            else:\n",
        "                pass"
      ],
      "metadata": {
        "id": "y8qZiC_MwKYr"
      },
      "execution_count": null,
      "outputs": []
    }
  ]
}